{
 "cells": [
  {
   "cell_type": "code",
   "execution_count": 25,
   "metadata": {
    "collapsed": true
   },
   "outputs": [],
   "source": [
    "import numpy as np              # Import numpy\n",
    "import matplotlib.pyplot as plt\n",
    "%matplotlib inline"
   ]
  },
  {
   "cell_type": "code",
   "execution_count": 26,
   "metadata": {
    "collapsed": true
   },
   "outputs": [],
   "source": [
    "from mpmath import fp as mpm\n",
    "from scipy.special import j0, j1, jn_zeros, jn, yv, jv\n",
    "\n",
    "\n",
    "class HankelTransform(object):\n",
    "    def __init__(self, nu=0, N=200, h=0.05):\n",
    "        if not np.isscalar(N):\n",
    "            raise ValueError(\"N must be a scalar\")\n",
    "        if not np.isscalar(h):\n",
    "            raise ValueError(\"h must be a scalar\")\n",
    "        if not np.isscalar(nu):\n",
    "            raise ValueError(\"nu must be a scalar\")\n",
    "\n",
    "        self._nu = nu\n",
    "        self._h = h\n",
    "        self._zeros = self._roots(N)\n",
    "        self.x = self._x(h)\n",
    "        self.j = self._j(self.x)\n",
    "        self.w = self._weight()\n",
    "        self.dpsi = self._d_psi(h*self._zeros)\n",
    "\n",
    "        # Some quantities only useful in the FourierTransform\n",
    "        self._x_power = 1\n",
    "        self._k_power = 2\n",
    "\n",
    "    def _psi(self, t):\n",
    "        y = np.sinh(t)\n",
    "        return t*np.tanh(np.pi*y/2)\n",
    "\n",
    "    def _d_psi(self, t):\n",
    "        a = (np.pi*t*np.cosh(t) + np.sinh(np.pi*np.sinh(t)))/(1.0 + np.cosh(np.pi*np.sinh(t)))\n",
    "        a[np.isnan(a)] = 1.0\n",
    "        return a\n",
    "\n",
    "    def _weight(self):\n",
    "        return yv(self._nu, np.pi*self._zeros)/self._j1(np.pi*self._zeros)\n",
    "\n",
    "    def _roots(self, N):\n",
    "        if isinstance(self._nu, int):\n",
    "            return jn_zeros(self._nu, N)/np.pi\n",
    "        elif self._nu == 0.5:\n",
    "            return np.arange(1, N + 1)\n",
    "        else:\n",
    "            return np.array([mpm.besseljzero(self._nu, i + 1) for i in range(N)])/np.pi\n",
    "\n",
    "    def _j(self, x):\n",
    "        if self._nu == 0:\n",
    "            return j0(x)\n",
    "        elif self._nu == 1:\n",
    "            return j1(x)\n",
    "        elif isinstance(self._nu, int):\n",
    "            return jn(self._nu, x)\n",
    "        else:\n",
    "            return jv(self._nu, x)\n",
    "\n",
    "    def _j1(self, x):\n",
    "        if self._nu == -1:\n",
    "            return j0(x)\n",
    "        elif self._nu == 0:\n",
    "            return j1(x)\n",
    "        elif isinstance(self._nu, int):\n",
    "            return jn(self._nu + 1, x)\n",
    "        else:\n",
    "            return jv(self._nu + 1, x)\n",
    "\n",
    "    def _x(self, h):\n",
    "        return np.pi*self._psi(h*self._zeros)/h\n",
    "\n",
    "    def _f(self, f, x):\n",
    "        return f(x)\n",
    "\n",
    "    @staticmethod\n",
    "    def _k(k):\n",
    "        return k\n",
    "\n",
    "    @staticmethod\n",
    "    def _norm(self,inverse=False):\n",
    "        return 1\n",
    "\n",
    "    def transform(self, f, k=1, ret_err=True, ret_cumsum=False, inverse=False):\n",
    "        # The following allows for a re-scaling of k when doing FT's.\n",
    "        k = self._k(k)\n",
    "\n",
    "        # The following is the scalar normalisation of the transform\n",
    "        # The basic transform has a norm of 1, but when doing FT's, this depends on the dimensionality.\n",
    "        norm = self._norm(inverse)\n",
    "\n",
    "        # The following renormalises by the fourier dual to some power\n",
    "        knorm = k ** self._k_power\n",
    "\n",
    "        fres = self._f(f, np.divide.outer(self.x, k).T)*self.x**self._x_power\n",
    "        summation = np.pi*self.w*fres*self.j*self.dpsi\n",
    "        ret = norm * np.sum(summation, axis=-1)/knorm\n",
    "\n",
    "        if ret_err:\n",
    "            err = norm * np.take(summation, -1, axis=-1)/knorm\n",
    "        if ret_cumsum:\n",
    "            cumsum = norm * np.divide.outer(np.cumsum(summation, axis=-1),knorm)\n",
    "\n",
    "        if ret_err and ret_cumsum:\n",
    "            return ret, err, cumsum\n",
    "        elif ret_err:\n",
    "            return ret, err\n",
    "        elif ret_cumsum:\n",
    "            return ret, cumsum\n",
    "        else:\n",
    "            return ret\n",
    "\n",
    "    def integrate(self, f, ret_err=True, ret_cumsum=False):\n",
    "        return self.transform(f=lambda x: f(x)/x, k=1, ret_err=ret_err, ret_cumsum=ret_cumsum, inverse=False)\n",
    "\n",
    "\n",
    "class SymmetricFourierTransform(HankelTransform):\n",
    "    def __init__(self, ndim=2, a = 1, b = 1, N=200, h=0.05):\n",
    "        if ndim%2 == 0:\n",
    "            nu = ndim/2 - 1\n",
    "        else:\n",
    "            nu = ndim/2. - 1\n",
    "\n",
    "        self.ndim = ndim\n",
    "        self.fourier_norm_a = a\n",
    "        self.fourier_norm_b = b\n",
    "\n",
    "        super(SymmetricFourierTransform, self).__init__(nu=nu, N=N, h=h)\n",
    "\n",
    "        self._x_power = self.ndim/2.\n",
    "        self._k_power = self.ndim\n",
    "\n",
    "    def _fourier_norm(self,inverse=False):\n",
    "        if inverse:\n",
    "            return np.sqrt(np.abs(self.fourier_norm_b)/(2*np.pi)**(1+self.fourier_norm_a))**self.ndim\n",
    "        else:\n",
    "            return np.sqrt(np.abs(self.fourier_norm_b)/(2*np.pi) ** (1 - self.fourier_norm_a))**self.ndim\n",
    "\n",
    "    def _norm(self,inverse=False):\n",
    "        return (2*np.pi) ** (self.ndim/2.) * self._fourier_norm(inverse)\n"
   ]
  },
  {
   "cell_type": "code",
   "execution_count": 27,
   "metadata": {
    "collapsed": false
   },
   "outputs": [],
   "source": [
    "from hankel.hankel import HankelTransform"
   ]
  },
  {
   "cell_type": "code",
   "execution_count": 28,
   "metadata": {
    "collapsed": true
   },
   "outputs": [],
   "source": [
    "ht = HankelTransform(nu= 0,            # The order of the bessel function\n",
    "                     N = 120,          # Number of steps in the integration\n",
    "                     h = 0.03)         # Proxy for \"size\" of steps in integrationы"
   ]
  },
  {
   "cell_type": "code",
   "execution_count": 29,
   "metadata": {
    "collapsed": true
   },
   "outputs": [],
   "source": [
    "f = lambda x : x/(x**2 + 1)"
   ]
  },
  {
   "cell_type": "code",
   "execution_count": 30,
   "metadata": {
    "collapsed": true
   },
   "outputs": [],
   "source": [
    "t = np.linspace(-1, 1, 120)\n",
    "f=f(t)"
   ]
  },
  {
   "cell_type": "code",
   "execution_count": 31,
   "metadata": {
    "collapsed": false
   },
   "outputs": [
    {
     "ename": "TypeError",
     "evalue": "'numpy.ndarray' object is not callable",
     "output_type": "error",
     "traceback": [
      "\u001b[0;31m---------------------------------------------------------------------------\u001b[0m",
      "\u001b[0;31mTypeError\u001b[0m                                 Traceback (most recent call last)",
      "\u001b[0;32m<ipython-input-31-519be511ce0d>\u001b[0m in \u001b[0;36m<module>\u001b[0;34m()\u001b[0m\n\u001b[1;32m      1\u001b[0m \u001b[0mk\u001b[0m \u001b[0;34m=\u001b[0m \u001b[0mnp\u001b[0m\u001b[0;34m.\u001b[0m\u001b[0mlogspace\u001b[0m\u001b[0;34m(\u001b[0m\u001b[0;34m-\u001b[0m\u001b[0;36m1\u001b[0m\u001b[0;34m,\u001b[0m\u001b[0;36m1\u001b[0m\u001b[0;34m,\u001b[0m\u001b[0;36m50\u001b[0m\u001b[0;34m)\u001b[0m\u001b[0;34m\u001b[0m\u001b[0m\n\u001b[0;32m----> 2\u001b[0;31m \u001b[0mFk\u001b[0m \u001b[0;34m=\u001b[0m \u001b[0mht\u001b[0m\u001b[0;34m.\u001b[0m\u001b[0mtransform\u001b[0m\u001b[0;34m(\u001b[0m\u001b[0mf\u001b[0m\u001b[0;34m,\u001b[0m\u001b[0mk\u001b[0m\u001b[0;34m,\u001b[0m\u001b[0mret_err\u001b[0m\u001b[0;34m=\u001b[0m\u001b[0mbool\u001b[0m\u001b[0;34m)\u001b[0m\u001b[0;34m\u001b[0m\u001b[0m\n\u001b[0m",
      "\u001b[0;32m/usr/lib/python3.6/site-packages/hankel/hankel.py\u001b[0m in \u001b[0;36mtransform\u001b[0;34m(self, f, k, ret_err, ret_cumsum, inverse)\u001b[0m\n\u001b[1;32m    171\u001b[0m         \u001b[0mknorm\u001b[0m \u001b[0;34m=\u001b[0m \u001b[0mk\u001b[0m \u001b[0;34m**\u001b[0m \u001b[0mself\u001b[0m\u001b[0;34m.\u001b[0m\u001b[0m_k_power\u001b[0m\u001b[0;34m\u001b[0m\u001b[0m\n\u001b[1;32m    172\u001b[0m \u001b[0;34m\u001b[0m\u001b[0m\n\u001b[0;32m--> 173\u001b[0;31m         \u001b[0mfres\u001b[0m \u001b[0;34m=\u001b[0m \u001b[0mself\u001b[0m\u001b[0;34m.\u001b[0m\u001b[0m_f\u001b[0m\u001b[0;34m(\u001b[0m\u001b[0mf\u001b[0m\u001b[0;34m,\u001b[0m \u001b[0mnp\u001b[0m\u001b[0;34m.\u001b[0m\u001b[0mdivide\u001b[0m\u001b[0;34m.\u001b[0m\u001b[0mouter\u001b[0m\u001b[0;34m(\u001b[0m\u001b[0mself\u001b[0m\u001b[0;34m.\u001b[0m\u001b[0mx\u001b[0m\u001b[0;34m,\u001b[0m \u001b[0mk\u001b[0m\u001b[0;34m)\u001b[0m\u001b[0;34m.\u001b[0m\u001b[0mT\u001b[0m\u001b[0;34m)\u001b[0m\u001b[0;34m*\u001b[0m\u001b[0mself\u001b[0m\u001b[0;34m.\u001b[0m\u001b[0mx\u001b[0m\u001b[0;34m**\u001b[0m\u001b[0mself\u001b[0m\u001b[0;34m.\u001b[0m\u001b[0m_x_power\u001b[0m\u001b[0;34m\u001b[0m\u001b[0m\n\u001b[0m\u001b[1;32m    174\u001b[0m         \u001b[0msummation\u001b[0m \u001b[0;34m=\u001b[0m \u001b[0mnp\u001b[0m\u001b[0;34m.\u001b[0m\u001b[0mpi\u001b[0m\u001b[0;34m*\u001b[0m\u001b[0mself\u001b[0m\u001b[0;34m.\u001b[0m\u001b[0mw\u001b[0m\u001b[0;34m*\u001b[0m\u001b[0mfres\u001b[0m\u001b[0;34m*\u001b[0m\u001b[0mself\u001b[0m\u001b[0;34m.\u001b[0m\u001b[0mj\u001b[0m\u001b[0;34m*\u001b[0m\u001b[0mself\u001b[0m\u001b[0;34m.\u001b[0m\u001b[0mdpsi\u001b[0m\u001b[0;34m\u001b[0m\u001b[0m\n\u001b[1;32m    175\u001b[0m         \u001b[0mret\u001b[0m \u001b[0;34m=\u001b[0m \u001b[0mnorm\u001b[0m \u001b[0;34m*\u001b[0m \u001b[0mnp\u001b[0m\u001b[0;34m.\u001b[0m\u001b[0msum\u001b[0m\u001b[0;34m(\u001b[0m\u001b[0msummation\u001b[0m\u001b[0;34m,\u001b[0m \u001b[0maxis\u001b[0m\u001b[0;34m=\u001b[0m\u001b[0;34m-\u001b[0m\u001b[0;36m1\u001b[0m\u001b[0;34m)\u001b[0m\u001b[0;34m/\u001b[0m\u001b[0mknorm\u001b[0m\u001b[0;34m\u001b[0m\u001b[0m\n",
      "\u001b[0;32m/usr/lib/python3.6/site-packages/hankel/hankel.py\u001b[0m in \u001b[0;36m_f\u001b[0;34m(self, f, x)\u001b[0m\n\u001b[1;32m    109\u001b[0m \u001b[0;34m\u001b[0m\u001b[0m\n\u001b[1;32m    110\u001b[0m     \u001b[0;32mdef\u001b[0m \u001b[0m_f\u001b[0m\u001b[0;34m(\u001b[0m\u001b[0mself\u001b[0m\u001b[0;34m,\u001b[0m \u001b[0mf\u001b[0m\u001b[0;34m,\u001b[0m \u001b[0mx\u001b[0m\u001b[0;34m)\u001b[0m\u001b[0;34m:\u001b[0m\u001b[0;34m\u001b[0m\u001b[0m\n\u001b[0;32m--> 111\u001b[0;31m         \u001b[0;32mreturn\u001b[0m \u001b[0mf\u001b[0m\u001b[0;34m(\u001b[0m\u001b[0mx\u001b[0m\u001b[0;34m)\u001b[0m\u001b[0;34m\u001b[0m\u001b[0m\n\u001b[0m\u001b[1;32m    112\u001b[0m \u001b[0;34m\u001b[0m\u001b[0m\n\u001b[1;32m    113\u001b[0m     \u001b[0;34m@\u001b[0m\u001b[0mstaticmethod\u001b[0m\u001b[0;34m\u001b[0m\u001b[0m\n",
      "\u001b[0;31mTypeError\u001b[0m: 'numpy.ndarray' object is not callable"
     ]
    }
   ],
   "source": [
    "k = np.logspace(-1,1,50)\n",
    "Fk = ht.transform(f,k,ret_err=bool)"
   ]
  },
  {
   "cell_type": "code",
   "execution_count": 19,
   "metadata": {
    "collapsed": false
   },
   "outputs": [
    {
     "data": {
      "image/png": "[encoded data removed]",
      "text/plain": [
       "<matplotlib.figure.Figure at 0x7f51eabdd2b0>"
      ]
     },
     "metadata": {},
     "output_type": "display_data"
    }
   ],
   "source": [
    "plt.plot(k,Fk)\n",
    "plt.xscale('log')\n",
    "plt.yscale('log')\n",
    "plt.ylabel(r\"$F_0(k)$\")\n",
    "plt.xlabel(r\"$k$\")\n",
    "plt.show()"
   ]
  },
  {
   "cell_type": "code",
   "execution_count": null,
   "metadata": {
    "collapsed": true
   },
   "outputs": [],
   "source": []
  }
 ],
 "metadata": {
  "kernelspec": {
   "display_name": "Python 3",
   "language": "python",
   "name": "python3"
  },
  "language_info": {
   "codemirror_mode": {
    "name": "ipython",
    "version": 3
   },
   "file_extension": ".py",
   "mimetype": "text/x-python",
   "name": "python",
   "nbconvert_exporter": "python",
   "pygments_lexer": "ipython3",
   "version": "3.6.0"
  }
 },
 "nbformat": 4,
 "nbformat_minor": 2
}
