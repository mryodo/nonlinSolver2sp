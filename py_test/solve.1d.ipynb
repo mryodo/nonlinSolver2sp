{
 "cells": [
  {
   "cell_type": "code",
   "execution_count": 1,
   "metadata": {
    "collapsed": true
   },
   "outputs": [],
   "source": [
    "import numpy as np\n",
    "from math import *\n",
    "from operator import add\n",
    "from scipy.stats import norm\n",
    "from scipy import signal\n",
    "import matplotlib.pyplot as plt"
   ]
  },
  {
   "cell_type": "code",
   "execution_count": 2,
   "metadata": {
    "collapsed": true
   },
   "outputs": [],
   "source": [
    "def y_calc(w, C, d, h, N, A):\n",
    "    return h*sum(np.multiply(w, C))+d"
   ]
  },
  {
   "cell_type": "code",
   "execution_count": 3,
   "metadata": {
    "collapsed": true
   },
   "outputs": [],
   "source": [
    "def n_calc(D11, D12, D22, w11, w12, w21, w22, d11, d12, d21, d22, b1, b2, d1, d2, h, A, N):\n",
    "    left=np.array([b1-d1, b2-d2])\n",
    "    y11=y_calc(w11, D11, d11, h, N, A)\n",
    "    y12=y_calc(w12, D12, d12, h, N, A)\n",
    "    y21=y_calc(w21, D12, d21, h, N, A)\n",
    "    y22=y_calc(w22, D22, d22, h, N, A)\n",
    "    right=np.array([[y11, y12], [y21, y22]])\n",
    "    res=np.linalg.solve(right, left)\n",
    "    return res[0], res[1]"
   ]
  },
  {
   "cell_type": "code",
   "execution_count": 4,
   "metadata": {
    "collapsed": true
   },
   "outputs": [],
   "source": [
    "def conv_dim(u, v, N, A, h):\n",
    "    return h*np.convolve(u, v, 'same')"
   ]
  },
  {
   "cell_type": "code",
   "execution_count": 5,
   "metadata": {
    "collapsed": true
   },
   "outputs": [],
   "source": [
    "def d11_calc(D11, D12, m1, w11, w12, b1, d1, d11, d12, N1, N2, al, A, N, h):\n",
    "    left=np.array([((1-al/2)*b1+al/2*(d1+d11*N1+N2*d12))]*N)+w11\n",
    "    right=conv_dim(m1, D11, N, A, h)\n",
    "    temp= np.multiply(D11+np.array([2]*N), conv_dim(w11, D11, N, A, h))+conv_dim(np.multiply(w11, D11), D11, N, A, h)\n",
    "    temp=(-al)/2*N1*temp\n",
    "    right=right+temp\n",
    "    temp= np.multiply(D11+np.array([2]*N), conv_dim(w12, D12, N, A, h))+conv_dim(np.multiply(w12, D12), D12, N, A, h)\n",
    "    temp=(-al)/2*N2*temp\n",
    "    right=right+temp+(1/N1)*m1-w11\n",
    "    return np.divide(right, left)\n",
    "\n",
    "def d12_calc(D12, D11, D22, m1, m2, w11, w12, w21, w22, \n",
    "             b1, b2, d1, d2, d11, d12, d21, d22, N1, N2, al, A, N, h):\n",
    "    left=np.array([(1-al/2)*(b1+b2)+al/2*(d1+d2+N1*(d11+d21)+N2*(d12+d22))]*N)+w12+w21\n",
    "    right=conv_dim(m1+m2, D12, N, A, h)\n",
    "    temp=np.multiply(D12+np.array([2]*N), conv_dim(w11, D12, N, A, h)+conv_dim(w21, D11, N, A, h))+conv_dim(np.multiply(w21, D12), D11, N, A, h)+conv_dim(np.multiply(w11, D11), D12, N, A, h)\n",
    "    temp=(-al/2)*N1*temp\n",
    "    right=right+temp\n",
    "    temp=np.multiply(D12+np.array([2]*N), conv_dim(w11, D22, N, A, h)+conv_dim(w22, D12, N, A, h))+conv_dim(np.multiply(w22, D22), D12, N, A, h)+conv_dim(np.multiply(w12, D12), D22, N, A, h)\n",
    "    temp=(-al/2)*N2*temp\n",
    "    right=right+temp-w12-w21\n",
    "    return np.divide(right, left)\n",
    "\n",
    "def d22_calc(D22, D12, m2, w22, w21, b2, d2, d22, d21, N2, N1, al, A, N, h):\n",
    "    left=np.array([((1-al/2)*b2+al/2*(d2+d21*N1+N2*d22))]*N)+d22\n",
    "    right=conv_dim(m2, D22, N, A, h)\n",
    "    temp= np.multiply(D22+np.array([2]*N), conv_dim(w22, D22, N, A, h))+conv_dim(np.multiply(w22, D22), D22, N, A, h)\n",
    "    temp=(-al)/2*N2*temp\n",
    "    right=right+temp\n",
    "    temp= np.multiply(D22+np.array([2]*N), conv_dim(w21, D12, N, A, h))+conv_dim(np.multiply(w21, D12), D12, N, A, h)\n",
    "    temp=(-al)/2*N1*temp\n",
    "    right=right+temp-(1/N2)*m2-w22\n",
    "    return np.divide(right, left)"
   ]
  },
  {
   "cell_type": "code",
   "execution_count": 35,
   "metadata": {
    "collapsed": true
   },
   "outputs": [],
   "source": [
    "N=3001\n",
    "A=1\n",
    "al=0.8\n",
    "\n",
    "r=np.linspace(-A, A, N)\n",
    "h=r[2]-r[1]\n",
    "\n",
    "sm1=0.04; sm2=0.06;\n",
    "b1=0.4; b2=0.4;\n",
    "d1=0.2; d2=0.2;\n",
    "d11=0.001; d12=0.001; d21=0.001; d22=0.001;\n",
    "sw11=0.04; sw22=0.04;\n",
    "sw12=0.04; sw21=0.04;\n",
    "\n",
    "m1=b1*norm.pdf(r, 0, sm1)\n",
    "m2=b2*norm.pdf(r, 0, sm2)\n",
    "\n",
    "w11=d11*norm.pdf(r, 0, sw11)\n",
    "w12=d12*norm.pdf(r, 0, sw12)\n",
    "w21=d21*norm.pdf(r, 0, sw21)\n",
    "w22=d22*norm.pdf(r, 0, sw22)"
   ]
  },
  {
   "cell_type": "code",
   "execution_count": 36,
   "metadata": {
    "collapsed": true
   },
   "outputs": [],
   "source": [
    "N1=0; N2=0;\n",
    "D11=np.zeros(N)\n",
    "D12=np.zeros(N)\n",
    "D22=np.zeros(N)"
   ]
  },
  {
   "cell_type": "code",
   "execution_count": 37,
   "metadata": {
    "collapsed": true
   },
   "outputs": [],
   "source": [
    "eps2=1e-4\n",
    "eps=1e-8\n",
    "max_iter=500\n",
    "y11_old=1; y12_old=1; y21_old=1; y22_old=1; mistake=1;\n",
    "n1_old=100000; n2_old=100000; mistake2=1000;\n",
    "itr=0\n",
    "N1=n1_old; N2=n2_old;"
   ]
  },
  {
   "cell_type": "code",
   "execution_count": 38,
   "metadata": {},
   "outputs": [
    {
     "name": "stdout",
     "output_type": "stream",
     "text": [
      "1 : 593.143451637 -423.934737373 ::: 4025.34573526 199830.791286\n",
      "2 : 0.1290447077 215.144832855 ::: -3.4839523804 1232.09397716\n",
      "3 : -6.80159568807 222.842219176 ::: 1.27282215041 14.6280267168\n",
      "4 : -435.513164007 670.540978094 ::: 0.762987900027 876.410327237\n",
      "5 : 112.226072886 83.0811041092 ::: 0.199242902163 1135.19911088\n",
      "6 : -377.372233028 609.810136407 ::: 0.191305064124 1016.32733821\n",
      "7 : 193.011776637 1.55357578385 ::: 0.118106482522 1178.64057029\n",
      "8 : 232.757640363 -34.4626551834 ::: 0.0819769811536 75.7620946933\n",
      "9 : 220.617993244 -17.7195848754 ::: 0.077781974361 28.882717427\n",
      "10 : 103.333350395 99.2483413844 ::: 0.110758728152 234.252569108\n",
      "11 : -257.950938913 487.961346024 ::: 0.150834900284 749.997293949\n",
      "12 : 205.175927058 -7.40450315259 ::: 0.142783168475 958.492715149\n",
      "13 : 1011.09716613 -833.36027742 ::: 0.0984429726245 1631.87701334\n",
      "14 : -11.1034035301 229.127316932 ::: 0.28136224325 2084.68816401\n",
      "15 : 384.135477561 -177.087227076 ::: 0.230704350864 801.453425099\n",
      "16 : 57.3705882112 170.96534738 ::: 0.494607783136 674.817463806\n",
      "17 : 52.5986313806 164.695888592 ::: 0.211219155407 11.0414156182\n",
      "18 : 70.7428999121 142.667428038 ::: 0.135401735678 40.1727290858\n",
      "19 : 95.3740966189 115.892235799 ::: 0.100100638437 51.4063889456\n",
      "20 : 118.207439724 91.1374782395 ::: 0.0950460879655 47.588100664\n",
      "21 : 137.217670237 70.0757700107 ::: 0.103678438232 40.0719387421\n",
      "22 : 152.769449076 52.3763037824 ::: 0.121622052786 33.2512450673\n",
      "23 : 165.629191231 37.3763275334 ::: 0.156382243951 27.859718404\n",
      "24 : 176.297358131 24.6633607318 ::: 0.239738472981 23.3811337019\n",
      "25 : 184.900385842 14.1826496089 ::: 0.553915736967 19.0837388335\n",
      "26 : 191.224551929 6.2104661586 ::: -22.6504660689 14.2963495375\n",
      "27 : 194.76570589 1.3017256143 ::: -0.955766744199 8.44989450519\n",
      "28 : 195.01673828 -0.000331808301983 ::: -0.964932502831 1.55308981307\n",
      "29 : 194.235145375 0.00317142670005 ::: 3.04170005837 0.785096140613\n",
      "30 : 195.429328358 -1.81056949129 ::: -401.246367026 3.00792390138\n",
      "31 : 135.752153207 61.0559548283 ::: 4.72134693151 122.543699471\n",
      "32 : 201.311962151 2.87235787737 ::: -0.547207956581 123.743405895\n",
      "33 : 207.597602072 2.18881119567 ::: -0.19299543235 6.96918660288\n",
      "34 : 209.143774175 1.49131787832 ::: -0.115720066735 2.24366542045\n",
      "35 : 211.42589932 1.00958036539 ::: 0.0199419269782 2.76386265751\n",
      "36 : 229.09265272 0.656230255636 ::: 0.271730960793 18.02010351\n",
      "37 : -884.437940818 -1.17258304485 ::: -3.93033443137 1115.35940684\n",
      "38 : -0.272244853459 -0.036075077341 ::: 0.261140766891 885.302203932\n",
      "39 : 0.00021873185931 -0.000566991909392 ::: -2.56116333269 0.30797167075\n",
      "40 : -4.8747318485e-05 -5.28015120125e-05 ::: -0.0454734142621 0.000781669575174\n",
      "41 : 4.10077754058e-08 4.37072785628e-08 ::: -0.0102875207412 0.000101633545551\n",
      "42 : -7.09972394664e-09 -2.359545286e-09 ::: -3.74949702573 9.41743232012e-08\n",
      "43 : 6.20529797358e-12 2.29339048431e-11 ::: 0.0771423975523 9.48840843546e-09\n",
      "44 : 4.59382186762e-16 -1.94837434801e-15 ::: 2.0108513886 2.91406918088e-11\n",
      "45 : -5.06018003065e-21 -2.07263077214e-20 ::: -0.000161843437812 2.40774086864e-15\n",
      "46 : -1.23066899125e-27 -2.50950969569e-26 ::: -5.32602317693e-07 2.57864614263e-20\n",
      "47 : -1.3059036348e-35 -1.98202049062e-34 ::: -3.30429257145e-06 2.63257657369e-26\n",
      "48 : 3.20642155429e-43 -8.46422688014e-40 ::: 2.00000413516 2.11260239308e-34\n",
      "49 : 1.01226929599e-51 -6.95036642832e-50 ::: 1.99999995191 8.46743330099e-40\n",
      "50 : -4.20568873121e-59 4.8368380319e-55 ::: -1.99999311146 7.05164173051e-50\n",
      "51 : -3.0072056641e-68 -2.55596162809e-65 ::: 2.23730969307e-08 4.83725860103e-55\n",
      "52 : -3.41542118985e-73 1.09286697631e-66 ::: 2.04275183333 2.66825549723e-65\n",
      "53 : 1.00736240907e-81 9.4957955368e-82 ::: 2.93463209289e-09 1.09286731786e-66\n"
     ]
    }
   ],
   "source": [
    "while ((itr < max_iter) and ((abs(mistake2) > eps2) or (abs(mistake) > eps))) :\n",
    "        D12=d12_calc(D12, D11, D22, m1, m2, w11, w12, w21, w22, b1, b2, d1, d2, d11, d12, d21, d22, N1, N2, al, A, N, h)\n",
    "        N1, N2=n_calc(D11, D12, D22, w11, w12, w21, w22, d11, d12, d21, d22, b1, b2, d1, d2, h, A, N)\n",
    "        D11=d11_calc(D11, D12, m1, w11, w12, b1, d1, d11, d12, N1, N2, al, A, N, h)\n",
    "        D22=d22_calc(D22, D12, m2, w22, w21, b2, d2, d22, d21, N2, N1, al, A, N, h)\n",
    "        y11=y_calc(w11, D11, d11, h, N, A)\n",
    "        y12=y_calc(w12, D12, d12, h, N, A)\n",
    "        y21=y_calc(w21, D12, d21, h, N, A)\n",
    "        y22=y_calc(w22, D22, d22, h, N, A)\n",
    "        mistake=abs(y11-y11_old)/y11+abs(y12-y12_old)/y12+abs(y21-y21_old)/y21+abs(y22-y22_old)/y22                                   \t\n",
    "        y11_old=y11; y12_old=y12; y21_old=y21; y22_old=y22;\n",
    "        itr=itr+1\n",
    "        N1, N2=n_calc(D11, D12, D22, w11, w12, w21, w22, d11, d12, d21, d22, b1, b2, d1, d2, h, A, N)                                    \n",
    "        mistake2=abs(N1-n1_old)+abs(N2-n2_old)\n",
    "        n1_old=N1; n2_old=N2;\n",
    "        print(itr, ':', N1, N2, ':::', mistake, mistake2)"
   ]
  },
  {
   "cell_type": "code",
   "execution_count": 33,
   "metadata": {},
   "outputs": [
    {
     "data": {
      "image/png": "[encoded data removed]",
      "text/plain": [
       "<matplotlib.figure.Figure at 0x7f366ae06470>"
      ]
     },
     "metadata": {},
     "output_type": "display_data"
    }
   ],
   "source": [
    "plt.figure(figsize=(15,10))\n",
    "plt.grid()\n",
    "#plt.ylim(-0.1, 0.01)\n",
    "plt.plot(r, D11, 'r')\n",
    "plt.plot(r, D12, 'g')\n",
    "plt.plot(r, D22, 'b')\n",
    "\n",
    "plt.show()"
   ]
  },
  {
   "cell_type": "code",
   "execution_count": 34,
   "metadata": {},
   "outputs": [
    {
     "data": {
      "image/png": "[encoded data removed]",
      "text/plain": [
       "<matplotlib.figure.Figure at 0x7f366af1fc88>"
      ]
     },
     "metadata": {},
     "output_type": "display_data"
    }
   ],
   "source": [
    "rhalf=np.linspace(0, A, 1501)\n",
    "\n",
    "plt.figure(figsize=(15,10))\n",
    "plt.grid()\n",
    "#plt.ylim(-0.1, 0.01)\n",
    "plt.plot(r, N1*N1*(D11+1), 'r')\n",
    "plt.plot(r, N1*N2*(D12+1), 'g')\n",
    "plt.plot(r, N2*N2*(D22+1), 'b')\n",
    "\n",
    "plt.show()"
   ]
  },
  {
   "cell_type": "code",
   "execution_count": null,
   "metadata": {
    "collapsed": true
   },
   "outputs": [],
   "source": []
  }
 ],
 "metadata": {
  "kernelspec": {
   "display_name": "Python 3",
   "language": "python",
   "name": "python3"
  },
  "language_info": {
   "codemirror_mode": {
    "name": "ipython",
    "version": 3
   },
   "file_extension": ".py",
   "mimetype": "text/x-python",
   "name": "python",
   "nbconvert_exporter": "python",
   "pygments_lexer": "ipython3",
   "version": "3.6.2"
  }
 },
 "nbformat": 4,
 "nbformat_minor": 2
}
