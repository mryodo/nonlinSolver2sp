{
 "cells": [
  {
   "cell_type": "code",
   "execution_count": 1,
   "metadata": {
    "collapsed": true
   },
   "outputs": [],
   "source": [
    "import numpy as np\n",
    "from math import *\n",
    "from operator import add\n",
    "from scipy.stats import norm\n",
    "import matplotlib.pyplot as plt"
   ]
  },
  {
   "cell_type": "code",
   "execution_count": 2,
   "metadata": {
    "collapsed": true
   },
   "outputs": [],
   "source": [
    "def y_calc(w, C, d, h, N, A, dim):\n",
    "    if (dim == 1):\n",
    "        return h*sum(np.multiply(w, C))+d\n",
    "    if (dim == 2):\n",
    "        r=np.linspace(0, A, N)\n",
    "        return 2*pi*h*sum(np.multiply(w, C))+d\n",
    "    if (dim == 3):\n",
    "        r=np.linspace(0, A, N)\n",
    "        return 4*pi*h*sum(np.multiply(w, np.multiply(C, np.multiply(r, r))))+d"
   ]
  },
  {
   "cell_type": "code",
   "execution_count": 3,
   "metadata": {
    "collapsed": true
   },
   "outputs": [],
   "source": [
    "def n_calc(D11, D12, D22, w11, w12, w21, w22, d11, d12, d21, d22, b1, b2, d1, d2, h, A, N, dim):\n",
    "    left=np.array([b1-d1, b2-d2]);\n",
    "    y11=y_calc(w11, D11, d11, h, N, A, dim);\n",
    "    y12=y_calc(w12, D12, d12, h, N, A, dim);\n",
    "    y21=y_calc(w21, D12, d21, h, N, A, dim);\n",
    "    y22=y_calc(w22, D22, d22, h, N, A, dim);\n",
    "    right=np.array([[y11, y12], [y21, y22]]);\n",
    "    res=np.linalg.solve(right, left)\n",
    "    return res[0], res[1]\n"
   ]
  },
  {
   "cell_type": "code",
   "execution_count": 4,
   "metadata": {
    "collapsed": true
   },
   "outputs": [],
   "source": [
    "def conv_dim(u, v, N, A, dim, ft):\n",
    "    if (dim == 1):\n",
    "        res=np.convolve(u, v, 'same')\n",
    "    if (dim == 2):\n",
    "        r=np.linspace(0, A, N)\n",
    "        k=pi/A*r\n",
    "        u1=ft.transform(u, k, ret_err=False)\n",
    "        v1=ft.transform(v, k, ret_err=False)\n",
    "        uv=np.multiply(u1, v1)\n",
    "        res=ft.transform(uv, r, ret_err=False, inverse=True)\n",
    "    if (dim == 3):\n",
    "        r=np.linspace(0, A, N)\n",
    "        res=4*pi*np.convolve(np.multiply(u, r), v, 'same')\n",
    "    return res"
   ]
  },
  {
   "cell_type": "code",
   "execution_count": 5,
   "metadata": {
    "collapsed": true
   },
   "outputs": [],
   "source": [
    "def d11_calc(D11, D12, m1, w11, w12, b1, d1, d11, d12, N1, N2, al, A, N, dim, ft):\n",
    "    left=np.array([((1-al/2)*b1+al/2*(d1+d11*N1+N2*d12))]*N)+w11\n",
    "    right=conv_dim(m1, D11, N, A, dim, ft)\n",
    "    temp= np.multiply(D11+np.array([2]*N), conv_dim(w11, D11, N, A, dim, ft))+conv_dim(np.multiply(w11, D11), D11, N, A, dim, ft)\n",
    "    temp=(-al)/2*N1*temp\n",
    "    right=right+temp\n",
    "    temp= np.multiply(D11+np.array([2]*N), conv_dim(w12, D12, N, A, dim, ft))+conv_dim(np.multiply(w12, D12), D12, N, A, dim, ft)\n",
    "    temp=(-al)/2*N2*temp\n",
    "    right=right+temp+(1/N1)*m1-w11\n",
    "    return np.divide(right, left)"
   ]
  },
  {
   "cell_type": "code",
   "execution_count": 6,
   "metadata": {
    "collapsed": true
   },
   "outputs": [],
   "source": [
    "def d12_calc(D12, D11, D22, m1, m2, w11, w12, w21, w22, b1, b2, d1, d2, d11, d12, d21, d22, N1, N2, al, A, N, dim, ft):\n",
    "    left=np.array([(1-al/2)*(b1+b2)+al/2*(d1+d2+N1*(d11+d21)+N2*(d12+d22))]*N)+w12+w21\n",
    "    right=conv_dim(m1+m2, D12, N, A, dim, ft)\n",
    "    temp=np.multiply(D12+np.array([2]*N), conv_dim(w11, D12, N, A, dim, ft)+conv_dim(w21, D11, N, A, dim, ft))+conv_dim(np.multiply(w21, D12), D11, N, A, dim, ft)+conv_dim(np.multiply(w11, D11), D12, N, A, dim, ft)\n",
    "    temp=(-al/2)*N1*temp\n",
    "    right=right+temp\n",
    "    temp=np.multiply(D12+np.array([2]*N), conv_dim(w11, D22, N, A, dim, ft)+conv_dim(w22, D12, N, A, dim, ft))+conv_dim(np.multiply(w22, D22), D12, N, A, dim, ft)+conv_dim(np.multiply(w12, D12), D22, N, A, dim, ft)\n",
    "    temp=(-al/2)*N2*temp\n",
    "    right=right+temp-w12-w21\n",
    "    return np.divide(right, left)"
   ]
  },
  {
   "cell_type": "code",
   "execution_count": 7,
   "metadata": {
    "collapsed": true
   },
   "outputs": [],
   "source": [
    "def d22_calc(D22, D12, m2, w22, w21, b2, d2, d22, d21, N2, N1, al, A, N, dim, ft):\n",
    "    left=np.array([((1-al/2)*b2+al/2*(d2+d21*N1+N2*d22))]*N)+d22\n",
    "    right=conv_dim(m2, D22, N, A, dim, ft)\n",
    "    temp= np.multiply(D22+np.array([2]*N), conv_dim(w22, D22, N, A, dim, ft))+conv_dim(np.multiply(w22, D22), D22, N, A, dim, ft)\n",
    "    temp=(-al)/2*N2*temp\n",
    "    right=right+temp\n",
    "    temp= np.multiply(D22+np.array([2]*N), conv_dim(w21, D12, N, A, dim, ft))+conv_dim(np.multiply(w21, D12), D12, N, A, dim, ft)\n",
    "    temp=(-al)/2*N1*temp\n",
    "    right=right+temp-(1/N2)*m2-w22\n",
    "    return np.divide(right, left)"
   ]
  },
  {
   "cell_type": "code",
   "execution_count": 8,
   "metadata": {
    "collapsed": true
   },
   "outputs": [],
   "source": [
    "def solver(N1, N2, D11, D12, D22, w11, w12, w21, w22, d11, d12, d21, d22, m1, m2, b1, b2, d1, d2, h, A, al, N, dim):\n",
    "    from hankel.hankel import SymmetricFourierTransform\n",
    "    eps2=1e-4\n",
    "    eps=1e-8\n",
    "    max_iter=500\n",
    "    y11_old=1; y12_old=1; y21_old=1; y22_old=1; mistake=1;\n",
    "    n1_old=100000; n2_old=100000; mistake2=1000;\n",
    "    itr=0\n",
    "    ft=0\n",
    "    if (dim == 2):\n",
    "        ft = SymmetricFourierTransform(dim, N, h)\n",
    "    while ((mistake > eps) and (itr < max_iter) and (mistake2 > eps2)):\n",
    "        D12=d12_calc(D12, D11, D22, m1, m2, w11, w12, w21, w22, b1, b2, d1, d2, d11, d12, d21, d22, N1, N2, al, A, N, dim, ft)\n",
    "        N1, N2=n_calc(D11, D12, D22, w11, w12, w21, w22, d11, d12, d21, d22, b1, b2, d1, d2, h, A, N, dim)\n",
    "        D11=d11_calc(D11, D12, m1, w11, w12, b1, d1, d11, d12, N1, N2, al, A, N, dim, ft)\n",
    "        D22=d22_calc(D22, D12, m2, w22, w21, b2, d2, d22, d21, N2, N1, al, A, N, dim, ft)\n",
    "        y11=y_calc(w11, D11, d11, h, N, A, dim)\n",
    "        y12=y_calc(w12, D12, d12, h, N, A, dim)\n",
    "        y21=y_calc(w21, D12, d21, h, N, A, dim)\n",
    "        y22=y_calc(w22, D22, d22, h, N, A, dim)\n",
    "        mistake=abs(y11-y11_old)/y11+abs(y12-y12_old)/y12+abs(y21-y21_old)/y21+abs(y22-y22_old)/y22                                   \t\n",
    "        y11_old=y11; y12_old=y12; y21_old=y21; y22_old=y22;\n",
    "        itr=itr+1\n",
    "        N1, N2=n_calc(D11, D12, D22, w11, w12, w21, w22, d11, d12, d21, d22, b1, b2, d1, d2, h, A, N, dim)                                    \n",
    "        mistake2=abs(N1-n1_old)+abs(N2-n2_old)\n",
    "        n1_old=N1; n2_old=N2;\n",
    "    return N1, N2, D11, D12, D22, itr"
   ]
  },
  {
   "cell_type": "code",
   "execution_count": 9,
   "metadata": {
    "collapsed": true
   },
   "outputs": [],
   "source": [
    "N=3001; A=2; al=0.8;\n",
    "\n",
    "r=np.linspace(0, A, N)\n",
    "h=r[2]-r[1]\n",
    "\n",
    "sm1=0.04; sm2=0.06;\n",
    "b1=0.4; b2=0.4;\n",
    "d1=0.2; d2=0.2;\n",
    "d11=0.001; d12=0.001; d21=0.001; d22=0.001;\n",
    "sw11=0.04; sw22=0.04;\n",
    "sw12=0.04; sw21=0.04;\n",
    "\n",
    "m1=b1*norm.pdf(r, 0, sm1)\n",
    "m2=b2*norm.pdf(r, 0, sm2)\n",
    "\n",
    "w11=d11*norm.pdf(r, 0, sw11)\n",
    "w12=d12*norm.pdf(r, 0, sw12)\n",
    "w21=d21*norm.pdf(r, 0, sw21)\n",
    "w22=d22*norm.pdf(r, 0, sw22)"
   ]
  },
  {
   "cell_type": "code",
   "execution_count": 12,
   "metadata": {},
   "outputs": [
    {
     "ename": "ModuleNotFoundError",
     "evalue": "No module named 'hankel'",
     "output_type": "error",
     "traceback": [
      "\u001b[0;31m---------------------------------------------------------------------------\u001b[0m",
      "\u001b[0;31mModuleNotFoundError\u001b[0m                       Traceback (most recent call last)",
      "\u001b[0;32m<ipython-input-12-3b8089b61650>\u001b[0m in \u001b[0;36m<module>\u001b[0;34m()\u001b[0m\n\u001b[1;32m     10\u001b[0m                                   \u001b[0mb1\u001b[0m\u001b[0;34m,\u001b[0m \u001b[0mb2\u001b[0m\u001b[0;34m,\u001b[0m\u001b[0;34m\u001b[0m\u001b[0m\n\u001b[1;32m     11\u001b[0m                                   \u001b[0md1\u001b[0m\u001b[0;34m,\u001b[0m \u001b[0md2\u001b[0m\u001b[0;34m,\u001b[0m\u001b[0;34m\u001b[0m\u001b[0m\n\u001b[0;32m---> 12\u001b[0;31m                                   h, A,  al, N, 1)\n\u001b[0m\u001b[1;32m     13\u001b[0m \u001b[0;34m\u001b[0m\u001b[0m\n\u001b[1;32m     14\u001b[0m \u001b[0mprint\u001b[0m\u001b[0;34m(\u001b[0m\u001b[0mN1\u001b[0m\u001b[0;34m,\u001b[0m \u001b[0mN2\u001b[0m\u001b[0;34m,\u001b[0m \u001b[0mitr\u001b[0m\u001b[0;34m)\u001b[0m\u001b[0;34m\u001b[0m\u001b[0m\n",
      "\u001b[0;32m<ipython-input-8-51036bec1159>\u001b[0m in \u001b[0;36msolver\u001b[0;34m(N1, N2, D11, D12, D22, w11, w12, w21, w22, d11, d12, d21, d22, m1, m2, b1, b2, d1, d2, h, A, al, N, dim)\u001b[0m\n\u001b[1;32m      1\u001b[0m \u001b[0;32mdef\u001b[0m \u001b[0msolver\u001b[0m\u001b[0;34m(\u001b[0m\u001b[0mN1\u001b[0m\u001b[0;34m,\u001b[0m \u001b[0mN2\u001b[0m\u001b[0;34m,\u001b[0m \u001b[0mD11\u001b[0m\u001b[0;34m,\u001b[0m \u001b[0mD12\u001b[0m\u001b[0;34m,\u001b[0m \u001b[0mD22\u001b[0m\u001b[0;34m,\u001b[0m \u001b[0mw11\u001b[0m\u001b[0;34m,\u001b[0m \u001b[0mw12\u001b[0m\u001b[0;34m,\u001b[0m \u001b[0mw21\u001b[0m\u001b[0;34m,\u001b[0m \u001b[0mw22\u001b[0m\u001b[0;34m,\u001b[0m \u001b[0md11\u001b[0m\u001b[0;34m,\u001b[0m \u001b[0md12\u001b[0m\u001b[0;34m,\u001b[0m \u001b[0md21\u001b[0m\u001b[0;34m,\u001b[0m \u001b[0md22\u001b[0m\u001b[0;34m,\u001b[0m \u001b[0mm1\u001b[0m\u001b[0;34m,\u001b[0m \u001b[0mm2\u001b[0m\u001b[0;34m,\u001b[0m \u001b[0mb1\u001b[0m\u001b[0;34m,\u001b[0m \u001b[0mb2\u001b[0m\u001b[0;34m,\u001b[0m \u001b[0md1\u001b[0m\u001b[0;34m,\u001b[0m \u001b[0md2\u001b[0m\u001b[0;34m,\u001b[0m \u001b[0mh\u001b[0m\u001b[0;34m,\u001b[0m \u001b[0mA\u001b[0m\u001b[0;34m,\u001b[0m \u001b[0mal\u001b[0m\u001b[0;34m,\u001b[0m \u001b[0mN\u001b[0m\u001b[0;34m,\u001b[0m \u001b[0mdim\u001b[0m\u001b[0;34m)\u001b[0m\u001b[0;34m:\u001b[0m\u001b[0;34m\u001b[0m\u001b[0m\n\u001b[0;32m----> 2\u001b[0;31m     \u001b[0;32mfrom\u001b[0m \u001b[0mhankel\u001b[0m\u001b[0;34m.\u001b[0m\u001b[0mhankel\u001b[0m \u001b[0;32mimport\u001b[0m \u001b[0mSymmetricFourierTransform\u001b[0m\u001b[0;34m\u001b[0m\u001b[0m\n\u001b[0m\u001b[1;32m      3\u001b[0m     \u001b[0meps2\u001b[0m\u001b[0;34m=\u001b[0m\u001b[0;36m1e-4\u001b[0m\u001b[0;34m\u001b[0m\u001b[0m\n\u001b[1;32m      4\u001b[0m     \u001b[0meps\u001b[0m\u001b[0;34m=\u001b[0m\u001b[0;36m1e-8\u001b[0m\u001b[0;34m\u001b[0m\u001b[0m\n\u001b[1;32m      5\u001b[0m     \u001b[0mmax_iter\u001b[0m\u001b[0;34m=\u001b[0m\u001b[0;36m500\u001b[0m\u001b[0;34m\u001b[0m\u001b[0m\n",
      "\u001b[0;31mModuleNotFoundError\u001b[0m: No module named 'hankel'"
     ]
    }
   ],
   "source": [
    "N1=0; N2=0;\n",
    "D11=np.array([0]*N)\n",
    "D12=np.array([0]*N)\n",
    "D22=np.array([0]*N)\n",
    "\n",
    "N1, N2, D11, D12, D21, itr=solver(N1, N2, D11, D12, D22, \n",
    "                                  w11, w12, w21, w22, \n",
    "                                  d11, d12, d21, d22, \n",
    "                                  m1, m2, \n",
    "                                  b1, b2, \n",
    "                                  d1, d2, \n",
    "                                  h, A,  al, N, 1)\n",
    "\n",
    "print(N1, N2, itr)"
   ]
  },
  {
   "cell_type": "code",
   "execution_count": 11,
   "metadata": {},
   "outputs": [
    {
     "data": {
      "image/png": "[encoded data removed]",
      "text/plain": [
       "<matplotlib.figure.Figure at 0x7f4e458b5b70>"
      ]
     },
     "metadata": {},
     "output_type": "display_data"
    }
   ],
   "source": [
    "plt.figure(figsize=(10,10))\n",
    "plt.grid()\n",
    "plt.plot(r, D11, 'r')\n",
    "plt.plot(r, D12, 'g')\n",
    "plt.plot(r, D22, 'b')\n",
    "\n",
    "plt.show()"
   ]
  },
  {
   "cell_type": "code",
   "execution_count": null,
   "metadata": {
    "collapsed": true
   },
   "outputs": [],
   "source": []
  }
 ],
 "metadata": {
  "kernelspec": {
   "display_name": "Python 3",
   "language": "python",
   "name": "python3"
  },
  "language_info": {
   "codemirror_mode": {
    "name": "ipython",
    "version": 3
   },
   "file_extension": ".py",
   "mimetype": "text/x-python",
   "name": "python",
   "nbconvert_exporter": "python",
   "pygments_lexer": "ipython3",
   "version": "3.6.2"
  }
 },
 "nbformat": 4,
 "nbformat_minor": 2
}
